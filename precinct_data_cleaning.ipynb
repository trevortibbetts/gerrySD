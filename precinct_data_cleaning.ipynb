{
 "cells": [
  {
   "cell_type": "code",
   "execution_count": 1,
   "id": "8d479e79-05e8-48d9-a0b2-6707a746cf05",
   "metadata": {},
   "outputs": [],
   "source": [
    "import geopandas as gpd\n",
    "import numpy as np\n",
    "import pandas as pd"
   ]
  },
  {
   "cell_type": "code",
   "execution_count": 2,
   "id": "ad7820bd-030b-4f22-acf0-a3ca85d2e9d6",
   "metadata": {},
   "outputs": [],
   "source": [
    "#set crs for web geography\n",
    "g = gpd.read_file(\"precinct_2024_votes.geojson\")\n",
    "if g.crs is None:\n",
    "    g = g.set_crs(4326)\n",
    "g = g.to_crs(4326)"
   ]
  },
  {
   "cell_type": "code",
   "execution_count": 3,
   "id": "3848c814-6c34-4cb5-915e-d809f1a651c4",
   "metadata": {},
   "outputs": [],
   "source": [
    "#rename columns to make easier to understand\n",
    "rename_map = {\n",
    "    \"SRPREC_KEY\" : \"prec_id\",\n",
    "    \"SRPREC\" : \"prec_name\",\n",
    "    \"COUNTY_x\" : \"county\",\n",
    "    \"COUNTY_y\" : \"county_dup\",\n",
    "    \"ELECTION\" : \"election\",\n",
    "    \"PREC_TYPE\" : \"prec_type\",\n",
    "    \"FIPS_CODE\" : \"fips\",\n",
    "    \"USPDEM01\" : \"dem_votes\",\n",
    "    \"USPREP01\" : \"rep_votes\",\n",
    "}\n",
    "g = g.rename(columns={k:v for k,v in rename_map.items() if k in g.columns})"
   ]
  },
  {
   "cell_type": "code",
   "execution_count": 4,
   "id": "0a0ec835-c11e-4fc9-84ba-59800f853adb",
   "metadata": {},
   "outputs": [
    {
     "data": {
      "text/html": [
       "<div>\n",
       "<style scoped>\n",
       "    .dataframe tbody tr th:only-of-type {\n",
       "        vertical-align: middle;\n",
       "    }\n",
       "\n",
       "    .dataframe tbody tr th {\n",
       "        vertical-align: top;\n",
       "    }\n",
       "\n",
       "    .dataframe thead th {\n",
       "        text-align: right;\n",
       "    }\n",
       "</style>\n",
       "<table border=\"1\" class=\"dataframe\">\n",
       "  <thead>\n",
       "    <tr style=\"text-align: right;\">\n",
       "      <th></th>\n",
       "      <th>index</th>\n",
       "      <th>prec_name</th>\n",
       "      <th>county</th>\n",
       "      <th>election</th>\n",
       "      <th>prec_type</th>\n",
       "      <th>fips</th>\n",
       "      <th>prec_id</th>\n",
       "      <th>county_dup</th>\n",
       "      <th>rep_votes</th>\n",
       "      <th>dem_votes</th>\n",
       "      <th>geometry</th>\n",
       "    </tr>\n",
       "  </thead>\n",
       "  <tbody>\n",
       "    <tr>\n",
       "      <th>0</th>\n",
       "      <td>16572</td>\n",
       "      <td>181200</td>\n",
       "      <td>073</td>\n",
       "      <td>g24</td>\n",
       "      <td>SRPREC</td>\n",
       "      <td>06073</td>\n",
       "      <td>06073181200</td>\n",
       "      <td>37</td>\n",
       "      <td>503.0</td>\n",
       "      <td>716.0</td>\n",
       "      <td>POLYGON ((-117.06416 32.79388, -117.06413 32.7...</td>\n",
       "    </tr>\n",
       "    <tr>\n",
       "      <th>1</th>\n",
       "      <td>16573</td>\n",
       "      <td>505710</td>\n",
       "      <td>073</td>\n",
       "      <td>g24</td>\n",
       "      <td>SRPREC</td>\n",
       "      <td>06073</td>\n",
       "      <td>06073505710</td>\n",
       "      <td>37</td>\n",
       "      <td>346.0</td>\n",
       "      <td>450.0</td>\n",
       "      <td>POLYGON ((-117.01473 32.72809, -117.01469 32.7...</td>\n",
       "    </tr>\n",
       "    <tr>\n",
       "      <th>2</th>\n",
       "      <td>16574</td>\n",
       "      <td>428610</td>\n",
       "      <td>073</td>\n",
       "      <td>g24</td>\n",
       "      <td>SRPREC</td>\n",
       "      <td>06073</td>\n",
       "      <td>06073428610</td>\n",
       "      <td>37</td>\n",
       "      <td>354.0</td>\n",
       "      <td>243.0</td>\n",
       "      <td>MULTIPOLYGON (((-117.2141 33.17722, -117.21405...</td>\n",
       "    </tr>\n",
       "    <tr>\n",
       "      <th>3</th>\n",
       "      <td>16575</td>\n",
       "      <td>428611</td>\n",
       "      <td>073</td>\n",
       "      <td>g24</td>\n",
       "      <td>SRPREC</td>\n",
       "      <td>06073</td>\n",
       "      <td>06073428611</td>\n",
       "      <td>37</td>\n",
       "      <td>272.0</td>\n",
       "      <td>199.0</td>\n",
       "      <td>MULTIPOLYGON (((-117.21068 33.19338, -117.2106...</td>\n",
       "    </tr>\n",
       "    <tr>\n",
       "      <th>4</th>\n",
       "      <td>16576</td>\n",
       "      <td>125270</td>\n",
       "      <td>073</td>\n",
       "      <td>g24</td>\n",
       "      <td>SRPREC</td>\n",
       "      <td>06073</td>\n",
       "      <td>06073125270</td>\n",
       "      <td>37</td>\n",
       "      <td>408.0</td>\n",
       "      <td>639.0</td>\n",
       "      <td>POLYGON ((-117.26545 32.84337, -117.26545 32.8...</td>\n",
       "    </tr>\n",
       "  </tbody>\n",
       "</table>\n",
       "</div>"
      ],
      "text/plain": [
       "   index prec_name county election prec_type   fips      prec_id county_dup  \\\n",
       "0  16572    181200    073      g24    SRPREC  06073  06073181200         37   \n",
       "1  16573    505710    073      g24    SRPREC  06073  06073505710         37   \n",
       "2  16574    428610    073      g24    SRPREC  06073  06073428610         37   \n",
       "3  16575    428611    073      g24    SRPREC  06073  06073428611         37   \n",
       "4  16576    125270    073      g24    SRPREC  06073  06073125270         37   \n",
       "\n",
       "   rep_votes  dem_votes                                           geometry  \n",
       "0      503.0      716.0  POLYGON ((-117.06416 32.79388, -117.06413 32.7...  \n",
       "1      346.0      450.0  POLYGON ((-117.01473 32.72809, -117.01469 32.7...  \n",
       "2      354.0      243.0  MULTIPOLYGON (((-117.2141 33.17722, -117.21405...  \n",
       "3      272.0      199.0  MULTIPOLYGON (((-117.21068 33.19338, -117.2106...  \n",
       "4      408.0      639.0  POLYGON ((-117.26545 32.84337, -117.26545 32.8...  "
      ]
     },
     "execution_count": 4,
     "metadata": {},
     "output_type": "execute_result"
    }
   ],
   "source": [
    "g.head()"
   ]
  },
  {
   "cell_type": "code",
   "execution_count": 5,
   "id": "b6ecea4e-e576-4a1a-90b7-7b5283520054",
   "metadata": {},
   "outputs": [],
   "source": [
    "#get rid of duplicate county\n",
    "if \"county\" not in g.columns and \"county_dup\" in g.columns:\n",
    "    g = g.rename(columns={\"county_dup\":\"county\"})\n",
    "elif \"county\" in g.columns and \"county_dup\" in g.columns:\n",
    "    g[\"county\"] = g[\"county\"].fillna(g[\"county_dup\"])\n",
    "    g = g.drop(columns=[\"county_dup\"], errors=\"ignore\")"
   ]
  },
  {
   "cell_type": "code",
   "execution_count": 6,
   "id": "9c2a07e6-87fc-488f-ab3a-44426cf6ba89",
   "metadata": {},
   "outputs": [],
   "source": [
    "#get rid of index column\n",
    "g = g.drop(columns=[c for c in [\"index\"] if c in g.columns], errors=\"ignore\")"
   ]
  },
  {
   "cell_type": "code",
   "execution_count": 7,
   "id": "f5066431-ec09-4865-9dce-031ffdddc924",
   "metadata": {},
   "outputs": [],
   "source": [
    "#ensure vote columns numeric\n",
    "for c in [\"dem_votes\",\"rep_votes\"]:\n",
    "    if c in g.columns:\n",
    "        g[c] = pd.to_numeric(g[c], errors=\"coerce\").fillna(0).astype(int)\n",
    "    else:\n",
    "        g[c] = 0"
   ]
  },
  {
   "cell_type": "code",
   "execution_count": 8,
   "id": "535da020-6227-425a-b529-846025e6b57d",
   "metadata": {},
   "outputs": [
    {
     "data": {
      "text/html": [
       "<div>\n",
       "<style scoped>\n",
       "    .dataframe tbody tr th:only-of-type {\n",
       "        vertical-align: middle;\n",
       "    }\n",
       "\n",
       "    .dataframe tbody tr th {\n",
       "        vertical-align: top;\n",
       "    }\n",
       "\n",
       "    .dataframe thead th {\n",
       "        text-align: right;\n",
       "    }\n",
       "</style>\n",
       "<table border=\"1\" class=\"dataframe\">\n",
       "  <thead>\n",
       "    <tr style=\"text-align: right;\">\n",
       "      <th></th>\n",
       "      <th>prec_name</th>\n",
       "      <th>county</th>\n",
       "      <th>election</th>\n",
       "      <th>prec_type</th>\n",
       "      <th>fips</th>\n",
       "      <th>prec_id</th>\n",
       "      <th>rep_votes</th>\n",
       "      <th>dem_votes</th>\n",
       "      <th>geometry</th>\n",
       "    </tr>\n",
       "  </thead>\n",
       "  <tbody>\n",
       "    <tr>\n",
       "      <th>0</th>\n",
       "      <td>181200</td>\n",
       "      <td>073</td>\n",
       "      <td>g24</td>\n",
       "      <td>SRPREC</td>\n",
       "      <td>06073</td>\n",
       "      <td>06073181200</td>\n",
       "      <td>503</td>\n",
       "      <td>716</td>\n",
       "      <td>POLYGON ((-117.06416 32.79388, -117.06413 32.7...</td>\n",
       "    </tr>\n",
       "    <tr>\n",
       "      <th>1</th>\n",
       "      <td>505710</td>\n",
       "      <td>073</td>\n",
       "      <td>g24</td>\n",
       "      <td>SRPREC</td>\n",
       "      <td>06073</td>\n",
       "      <td>06073505710</td>\n",
       "      <td>346</td>\n",
       "      <td>450</td>\n",
       "      <td>POLYGON ((-117.01473 32.72809, -117.01469 32.7...</td>\n",
       "    </tr>\n",
       "    <tr>\n",
       "      <th>2</th>\n",
       "      <td>428610</td>\n",
       "      <td>073</td>\n",
       "      <td>g24</td>\n",
       "      <td>SRPREC</td>\n",
       "      <td>06073</td>\n",
       "      <td>06073428610</td>\n",
       "      <td>354</td>\n",
       "      <td>243</td>\n",
       "      <td>MULTIPOLYGON (((-117.2141 33.17722, -117.21405...</td>\n",
       "    </tr>\n",
       "    <tr>\n",
       "      <th>3</th>\n",
       "      <td>428611</td>\n",
       "      <td>073</td>\n",
       "      <td>g24</td>\n",
       "      <td>SRPREC</td>\n",
       "      <td>06073</td>\n",
       "      <td>06073428611</td>\n",
       "      <td>272</td>\n",
       "      <td>199</td>\n",
       "      <td>MULTIPOLYGON (((-117.21068 33.19338, -117.2106...</td>\n",
       "    </tr>\n",
       "    <tr>\n",
       "      <th>4</th>\n",
       "      <td>125270</td>\n",
       "      <td>073</td>\n",
       "      <td>g24</td>\n",
       "      <td>SRPREC</td>\n",
       "      <td>06073</td>\n",
       "      <td>06073125270</td>\n",
       "      <td>408</td>\n",
       "      <td>639</td>\n",
       "      <td>POLYGON ((-117.26545 32.84337, -117.26545 32.8...</td>\n",
       "    </tr>\n",
       "  </tbody>\n",
       "</table>\n",
       "</div>"
      ],
      "text/plain": [
       "  prec_name county election prec_type   fips      prec_id  rep_votes  \\\n",
       "0    181200    073      g24    SRPREC  06073  06073181200        503   \n",
       "1    505710    073      g24    SRPREC  06073  06073505710        346   \n",
       "2    428610    073      g24    SRPREC  06073  06073428610        354   \n",
       "3    428611    073      g24    SRPREC  06073  06073428611        272   \n",
       "4    125270    073      g24    SRPREC  06073  06073125270        408   \n",
       "\n",
       "   dem_votes                                           geometry  \n",
       "0        716  POLYGON ((-117.06416 32.79388, -117.06413 32.7...  \n",
       "1        450  POLYGON ((-117.01473 32.72809, -117.01469 32.7...  \n",
       "2        243  MULTIPOLYGON (((-117.2141 33.17722, -117.21405...  \n",
       "3        199  MULTIPOLYGON (((-117.21068 33.19338, -117.2106...  \n",
       "4        639  POLYGON ((-117.26545 32.84337, -117.26545 32.8...  "
      ]
     },
     "execution_count": 8,
     "metadata": {},
     "output_type": "execute_result"
    }
   ],
   "source": [
    "g.head()"
   ]
  },
  {
   "cell_type": "code",
   "execution_count": 9,
   "id": "b9d687cf-f7e6-49e0-80d4-2ae712daae73",
   "metadata": {},
   "outputs": [],
   "source": [
    "#compute two-party metrics\n",
    "g[\"two_party\"] = g[\"dem_votes\"] + g[\"rep_votes\"]\n",
    "g[\"dem_share\"] = np.where(g[\"two_party\"]>0, g[\"dem_votes\"]/g[\"two_party\"], np.nan)\n",
    "g[\"rep_share\"] = np.where(g[\"two_party\"]>0, g[\"rep_votes\"]/g[\"two_party\"], np.nan)\n",
    "g[\"lean\"] = np.where(g[\"dem_share\"]>=0.5, \"D\", \"R\")"
   ]
  },
  {
   "cell_type": "code",
   "execution_count": 10,
   "id": "6c04ea72-ecf7-4a71-b9fd-42c394380b99",
   "metadata": {},
   "outputs": [],
   "source": [
    "#keep useful columns\n",
    "keep = [\"prec_id\",\"dem_votes\",\"rep_votes\",\"two_party\",\"dem_share\",\"rep_share\",\"lean\",\"geometry\"]\n",
    "g = g[[c for c in keep if c in g.columns]]"
   ]
  },
  {
   "cell_type": "code",
   "execution_count": 11,
   "id": "0cee79cd-4769-4ff3-a48a-08c285f01edf",
   "metadata": {},
   "outputs": [
    {
     "data": {
      "text/html": [
       "<div>\n",
       "<style scoped>\n",
       "    .dataframe tbody tr th:only-of-type {\n",
       "        vertical-align: middle;\n",
       "    }\n",
       "\n",
       "    .dataframe tbody tr th {\n",
       "        vertical-align: top;\n",
       "    }\n",
       "\n",
       "    .dataframe thead th {\n",
       "        text-align: right;\n",
       "    }\n",
       "</style>\n",
       "<table border=\"1\" class=\"dataframe\">\n",
       "  <thead>\n",
       "    <tr style=\"text-align: right;\">\n",
       "      <th></th>\n",
       "      <th>prec_id</th>\n",
       "      <th>dem_votes</th>\n",
       "      <th>rep_votes</th>\n",
       "      <th>two_party</th>\n",
       "      <th>dem_share</th>\n",
       "      <th>rep_share</th>\n",
       "      <th>lean</th>\n",
       "      <th>geometry</th>\n",
       "    </tr>\n",
       "  </thead>\n",
       "  <tbody>\n",
       "    <tr>\n",
       "      <th>0</th>\n",
       "      <td>06073181200</td>\n",
       "      <td>716</td>\n",
       "      <td>503</td>\n",
       "      <td>1219</td>\n",
       "      <td>0.587367</td>\n",
       "      <td>0.412633</td>\n",
       "      <td>D</td>\n",
       "      <td>POLYGON ((-117.06416 32.79388, -117.06413 32.7...</td>\n",
       "    </tr>\n",
       "    <tr>\n",
       "      <th>1</th>\n",
       "      <td>06073505710</td>\n",
       "      <td>450</td>\n",
       "      <td>346</td>\n",
       "      <td>796</td>\n",
       "      <td>0.565327</td>\n",
       "      <td>0.434673</td>\n",
       "      <td>D</td>\n",
       "      <td>POLYGON ((-117.01473 32.72809, -117.01469 32.7...</td>\n",
       "    </tr>\n",
       "    <tr>\n",
       "      <th>2</th>\n",
       "      <td>06073428610</td>\n",
       "      <td>243</td>\n",
       "      <td>354</td>\n",
       "      <td>597</td>\n",
       "      <td>0.407035</td>\n",
       "      <td>0.592965</td>\n",
       "      <td>R</td>\n",
       "      <td>MULTIPOLYGON (((-117.2141 33.17722, -117.21405...</td>\n",
       "    </tr>\n",
       "    <tr>\n",
       "      <th>3</th>\n",
       "      <td>06073428611</td>\n",
       "      <td>199</td>\n",
       "      <td>272</td>\n",
       "      <td>471</td>\n",
       "      <td>0.422505</td>\n",
       "      <td>0.577495</td>\n",
       "      <td>R</td>\n",
       "      <td>MULTIPOLYGON (((-117.21068 33.19338, -117.2106...</td>\n",
       "    </tr>\n",
       "    <tr>\n",
       "      <th>4</th>\n",
       "      <td>06073125270</td>\n",
       "      <td>639</td>\n",
       "      <td>408</td>\n",
       "      <td>1047</td>\n",
       "      <td>0.610315</td>\n",
       "      <td>0.389685</td>\n",
       "      <td>D</td>\n",
       "      <td>POLYGON ((-117.26545 32.84337, -117.26545 32.8...</td>\n",
       "    </tr>\n",
       "  </tbody>\n",
       "</table>\n",
       "</div>"
      ],
      "text/plain": [
       "       prec_id  dem_votes  rep_votes  two_party  dem_share  rep_share lean  \\\n",
       "0  06073181200        716        503       1219   0.587367   0.412633    D   \n",
       "1  06073505710        450        346        796   0.565327   0.434673    D   \n",
       "2  06073428610        243        354        597   0.407035   0.592965    R   \n",
       "3  06073428611        199        272        471   0.422505   0.577495    R   \n",
       "4  06073125270        639        408       1047   0.610315   0.389685    D   \n",
       "\n",
       "                                            geometry  \n",
       "0  POLYGON ((-117.06416 32.79388, -117.06413 32.7...  \n",
       "1  POLYGON ((-117.01473 32.72809, -117.01469 32.7...  \n",
       "2  MULTIPOLYGON (((-117.2141 33.17722, -117.21405...  \n",
       "3  MULTIPOLYGON (((-117.21068 33.19338, -117.2106...  \n",
       "4  POLYGON ((-117.26545 32.84337, -117.26545 32.8...  "
      ]
     },
     "execution_count": 11,
     "metadata": {},
     "output_type": "execute_result"
    }
   ],
   "source": [
    "g.head()"
   ]
  },
  {
   "cell_type": "code",
   "execution_count": 12,
   "id": "c037b7bc-fab9-4f98-b3c9-7907802d6520",
   "metadata": {},
   "outputs": [],
   "source": [
    "#save geopackage version for analytics\n",
    "g.to_file(\"precinct_2024_votes_clean.gpkg\", layer=\"precincts\", driver=\"GPKG\")"
   ]
  },
  {
   "cell_type": "code",
   "execution_count": 13,
   "id": "6d36e58a-25a0-4d73-9846-dd97671c354f",
   "metadata": {},
   "outputs": [],
   "source": [
    "#save simplified geojson for web use\n",
    "g_web = g.copy()\n",
    "g_web[\"geometry\"] = g_web.geometry.simplify(0.0002, preserve_topology=True)  # tweak tolerance\n",
    "g_web.to_file(\"precinct_2024_votes_web.geojson\", driver=\"GeoJSON\")"
   ]
  },
  {
   "cell_type": "code",
   "execution_count": 14,
   "id": "4088675a-d302-490f-b6d9-87c8320a011f",
   "metadata": {},
   "outputs": [
    {
     "data": {
      "text/plain": [
       "np.int64(796925)"
      ]
     },
     "execution_count": 14,
     "metadata": {},
     "output_type": "execute_result"
    }
   ],
   "source": [
    "#check data\n",
    "g[\"dem_votes\"].sum()"
   ]
  },
  {
   "cell_type": "code",
   "execution_count": 15,
   "id": "36c3de58-ab57-4dd8-b678-87be417bf09b",
   "metadata": {},
   "outputs": [
    {
     "data": {
      "text/plain": [
       "np.int64(610662)"
      ]
     },
     "execution_count": 15,
     "metadata": {},
     "output_type": "execute_result"
    }
   ],
   "source": [
    "g[\"rep_votes\"].sum()"
   ]
  },
  {
   "cell_type": "code",
   "execution_count": 16,
   "id": "81559e7a-5331-473c-aa31-d83abf259032",
   "metadata": {},
   "outputs": [
    {
     "data": {
      "text/plain": [
       "np.int64(1407587)"
      ]
     },
     "execution_count": 16,
     "metadata": {},
     "output_type": "execute_result"
    }
   ],
   "source": [
    "g[\"two_party\"].sum()"
   ]
  },
  {
   "cell_type": "code",
   "execution_count": 17,
   "id": "bd44fc4c-747b-4e12-b92f-9d888f923a93",
   "metadata": {},
   "outputs": [
    {
     "data": {
      "text/plain": [
       "np.int64(0)"
      ]
     },
     "execution_count": 17,
     "metadata": {},
     "output_type": "execute_result"
    }
   ],
   "source": [
    "g[\"prec_id\"].isna().sum()"
   ]
  },
  {
   "cell_type": "code",
   "execution_count": null,
   "id": "fa4e04a0-c9e4-40e4-b77a-4cef1c272661",
   "metadata": {},
   "outputs": [],
   "source": []
  }
 ],
 "metadata": {
  "kernelspec": {
   "display_name": "Python 3 (ipykernel)",
   "language": "python",
   "name": "python3"
  },
  "language_info": {
   "codemirror_mode": {
    "name": "ipython",
    "version": 3
   },
   "file_extension": ".py",
   "mimetype": "text/x-python",
   "name": "python",
   "nbconvert_exporter": "python",
   "pygments_lexer": "ipython3",
   "version": "3.12.5"
  }
 },
 "nbformat": 4,
 "nbformat_minor": 5
}
